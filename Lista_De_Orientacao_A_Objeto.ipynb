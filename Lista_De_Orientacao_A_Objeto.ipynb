{
  "nbformat": 4,
  "nbformat_minor": 0,
  "metadata": {
    "kernelspec": {
      "display_name": "Python 3",
      "language": "python",
      "name": "python3"
    },
    "language_info": {
      "codemirror_mode": {
        "name": "ipython",
        "version": 3
      },
      "file_extension": ".py",
      "mimetype": "text/x-python",
      "name": "python",
      "nbconvert_exporter": "python",
      "pygments_lexer": "ipython3",
      "version": "3.8.5"
    },
    "colab": {
      "name": "poo-Resolvido.ipynb",
      "provenance": [],
      "collapsed_sections": []
    }
  },
  "cells": [
    {
      "cell_type": "markdown",
      "metadata": {
        "id": "I9piETxtP3T5"
      },
      "source": [
        "## 5. Exercícios\n",
        "\n",
        "<ol start=\"1\"><li>Descreva as diferenças entre classes e objetos.</li>\n",
        "\n",
        "__Classes são as abstrações mais gerais, são os moldes que vão gerar os elementos mais específicos(objetos). Os objetos são uma instância de uma determinada classe.__\n",
        "\n",
        "<li>Descreva por que usamos <tt>self</tt> como o primeiro argumento nos métodos.</li>  \n",
        "\n",
        "__O self funciona como uma altoreferência, ele indica que o método pertence a classe.__\n",
        "\n",
        "<li>O que é um construtor? E por é usado?</li>  \n",
        "\n",
        "__O contrutor nada mais é que o método que inicia a classe. Quanto um objeto é instanciado ele chama o método init que define os valores iniciais dos atributos de cada objeto.__\n",
        "\n",
        "<li>Descreva as diferenças entre os atributos de classe e instância.</li>  \n",
        "<b>Atributo de Classe é um valor que será atribuido a todos os objetos que serão instanciados dessa classe, já atributos de instância são específicos pra cada instância da classe.</b>\n",
        "\n",
        "<li>A seguir temos a definição da classe <tt>Ponto</tt> que tem como atributos as coordenada <tt>(x,y)</tt>. Adicione um método <tt>traca_ponto()</tt> que plota a posição do ponto.</li>  \n",
        "<b>Feito abaixo.</b>"
      ]
    },
    {
      "cell_type": "code",
      "metadata": {
        "id": "xwbWNm-mP3T5",
        "colab": {
          "base_uri": "https://localhost:8080/",
          "height": 283
        },
        "outputId": "df9be367-ef0a-4175-8e6f-db5feff0834c"
      },
      "source": [
        "import matplotlib.pyplot as plt\n",
        "from math import sqrt\n",
        "\n",
        "class Ponto():\n",
        "    def __init__(self, x, y):\n",
        "        self.x = x\n",
        "        self.y = y\n",
        "    def tracaponto(self):\n",
        "      plt.plot(self.x,self.y,\"o\")\n",
        "    def calc_dist(self,x,y):\n",
        "      print('A distância entre os pontos é: ',\n",
        "            round(sqrt((self.x - x )**2 + (self.y - y)**2),2))\n",
        "\n",
        "pnt = Ponto(10,10)\n",
        "pnt.tracaponto()\n",
        "pnt.calc_dist(0,0)"
      ],
      "execution_count": 6,
      "outputs": [
        {
          "output_type": "stream",
          "text": [
            "A distância entre os pontos é:  14.14\n"
          ],
          "name": "stdout"
        },
        {
          "output_type": "display_data",
          "data": {
            "image/png": "[encoded data removed]",
            "text/plain": [
              "<Figure size 432x288 with 1 Axes>"
            ]
          },
          "metadata": {
            "tags": [],
            "needs_background": "light"
          }
        }
      ]
    },
    {
      "cell_type": "markdown",
      "metadata": {
        "id": "W1NeJ4K9P3T5"
      },
      "source": [
        "<ol start=\"6\"><li>Use a classe do exercício 5 e adicione um método <tt>calc_dist()</tt> que recebe os argumentos <tt>(x,y)</tt> de outro ponto e retorna a distância calculada entre os dois pontos.  \n",
        "\n",
        "<b>Feito acima.</b>\n",
        "\n",
        "<li>O que é herança?</li>\n",
        "<b>Quando uma classe herda os atributos e métodos de outra classe</b>\n",
        "\n",
        "<li>Como herdamos de uma superclasse e adicionamos novos métodos?</li>  \n",
        "  <b>Basta utilizar o comando super( ) para chamar o construct da classe pai. Para cirar novos métodos basta colocola-los normalmente na nova classe.</b>\n",
        "<li>Quando herdamos de uma superclasse, precisamos substituir um método por um novo, como fazemos isso?</li> \n",
        "<b>Basta sobrescrever o método, criando um novo método com o mesmo identificador da classe pai.</b>\n",
        "\n",
        "<li>Qual é o super método? Por que precisamos disso?</li>\n",
        "<b>Super método nada mais é que uma instância do método pai. Através dele podemos chamar os métodos da classe pai, inclusive o __init__.</b>\n",
        "\n",
        "<li>Crie uma classe para modelar algum objeto do mundo real e crie uma nova classe para herdar dele. Um exemplo pode ser o seguinte. Você deve usar um exemplo diferente e usar o máximo possível de coisas que aprendemos.</li>  "
      ]
    },
    {
      "cell_type": "code",
      "metadata": {
        "id": "8qwGquKoP3T6",
        "colab": {
          "base_uri": "https://localhost:8080/"
        },
        "outputId": "b5f3e25f-ef65-44a9-e495-2c644e01405f"
      },
      "source": [
        "class Pessoa():\n",
        "  numero_de_pernas = 2  #Atributo de classe (igual para todas as instâncias)\n",
        "  numero_de_braços = 2  #Atributo de classe (igual para todas as instâncias)\n",
        "  def __init__(self,nome,cabelo,pele):\n",
        "    self.nome = nome\n",
        "    self.cor_do_cabelo = cabelo\n",
        "    self.cor_da_pele = pele\n",
        "  def correr(self):\n",
        "    print(self.nome+' está correndo ...')\n",
        "  def falar(self):\n",
        "    print('Eu, '+self.nome+', tenho cabelo '+self.cor_do_cabelo+' e pele '+self.cor_da_pele)\n",
        "            \n",
        "pedro = Pessoa('Pedro','castanho','escura') \n",
        "pedro.correr()\n",
        "pedro.falar()\n",
        "print(pedro.numero_de_pernas)\n",
        "print(\"----------------------------------------------------------------------\")\n",
        "calebe = Pessoa('Calebe','Castanho Escuro','Morena')\n",
        "calebe.correr()\n",
        "calebe.falar()\n",
        "print(calebe.numero_de_pernas)"
      ],
      "execution_count": 15,
      "outputs": [
        {
          "output_type": "stream",
          "text": [
            "Pedro está correndo ...\n",
            "Eu, Pedro, tenho cabelo castanho e pele escura\n",
            "2\n",
            "----------------------------------------------------------------------\n",
            "Calebe está correndo ...\n",
            "Eu, Calebe, tenho cabelo Castanho Escuro e pele Morena\n",
            "2\n"
          ],
          "name": "stdout"
        }
      ]
    },
    {
      "cell_type": "markdown",
      "metadata": {
        "id": "OA91PD9nP3T6"
      },
      "source": [
        "Fonte: https://pythonnumericalmethods.berkeley.edu acessado em 30/05/2021."
      ]
    }
  ]
}
{
  "nbformat": 4,
  "nbformat_minor": 0,
  "metadata": {
    "kernelspec": {
      "display_name": "Python 3",
      "language": "python",
      "name": "python3"
    },
    "language_info": {
      "codemirror_mode": {
        "name": "ipython",
        "version": 3
      },
      "file_extension": ".py",
      "mimetype": "text/x-python",
      "name": "python",
      "nbconvert_exporter": "python",
      "pygments_lexer": "ipython3",
      "version": "3.8.5"
    },
    "colab": {
      "name": "Listas_em_Python_(exercícios).ipynb",
      "provenance": [],
      "collapsed_sections": []
    }
  },
  "cells": [
    {
      "cell_type": "markdown",
      "metadata": {
        "id": "GgziSXHFnB5m"
      },
      "source": [
        "# Listas em Python\n",
        "#### TSI2 - Introdução à Ling. Python\n",
        "\n",
        "### Aluno : Victor Calebe Cavalcante de Macedo"
      ]
    },
    {
      "cell_type": "markdown",
      "metadata": {
        "id": "Eev6LmbnnB5s"
      },
      "source": [
        "1. Criar uma lista com 10 números reais e depois mostrar a lista em ordem inversa.\n",
        "1. Criar uma lista com 4 notas (números reais), em seguida exibir as notas e a média aritmética delas.\n",
        "1. Criar uma lista com as idades de 10 pessoas e exibir a maior e menor idades.\n",
        "1. Criar uma lista de 20 números inteiros e separar os números pares numa lista PAR e os números ímpares noutra lista IMPAR. Exibir as listas PAR e IMPAR. Nota: use listas abrangentes.\n",
        "1. Fazer um *script* que receba a temperatura média de cada mês do ano e as guarde em uma lista. Em seguida, calcule a média anual das temperaturas e mostre a média calculada juntamente com todas as temperaturas acima da média anual, e em que mês (por extenso: Janeiro, Fevereiro, . . . ) elas ocorreram.\n",
        "1. Fazer um *script* que leia uma lista com valores informados pelo usuário e gere uma nova lista cujos itens consistam da metade dos valores lidos.\n",
        "1. Fazer um *script* que crie uma matriz *N*x*N* com valores reais escolhidos aleatoriamente. O valor de *N* deve ser informado pelo usuário.\n",
        "1. Utilizando listas faça um *script* que apresente 5 perguntas para uma pessoa sobre um crime:  \n",
        "- Telefonou para a vítima?  \n",
        "- Esteve no local do crime?\n",
        "- Mora perto da vítima?\n",
        "- Devia dinheiro para a vítima?\n",
        "- Já trabalhou com a vítima?  \n",
        "Exiba a classificação sobre a participação da pessoa no crime. \n",
        "Se a pessoa responder positivamente a 2 questões ela deve ser classificada como \"Suspeita“; entre 3 e 4 como \"Cúmplice\" e; 5 como \"Assassino\". Caso contrário, ele será classificado como \"Inocente\".  \n",
        "\n",
        "9. Uma empresa de pesquisas precisa tabular os resultados de uma enquete feita com algumas organizações: \"Qual o melhor Sistema Operacional para uso em servidores?\" As possíveis respostas foram:  \n",
        "`1-Windows XP  2-Unix  3-Linux  4-Netware  5-MacOS  6-Outros`  \n",
        "Fazer um *script* em Python para ler as respostas da enquete (flag 0 - encerra a entrada dos dados) e informar o resultado da mesma. Use lista(s). Calcular o percentual de cada S.O. e informar o vencedor da enquete, o total de votos do vencedor e o total de organizações."
      ]
    },
    {
      "cell_type": "code",
      "metadata": {
        "colab": {
          "base_uri": "https://localhost:8080/"
        },
        "id": "HXwNY6HunB5t",
        "outputId": "9f7c5f46-58a2-4745-fed4-afd4a02beecd"
      },
      "source": [
        "# Resposta à Questão 1:\n",
        "n = [1, 2, 3, 4, 5, 6, 7, 8, 9, 10]\n",
        "print(list(reversed(n)))\n"
      ],
      "execution_count": null,
      "outputs": [
        {
          "output_type": "stream",
          "text": [
            "[10, 9, 8, 7, 6, 5, 4, 3, 2, 1]\n"
          ],
          "name": "stdout"
        }
      ]
    },
    {
      "cell_type": "code",
      "metadata": {
        "colab": {
          "base_uri": "https://localhost:8080/"
        },
        "id": "pO3r8egAnB5u",
        "outputId": "eb249dcc-0672-4da5-f1ed-7ee9c89f2643"
      },
      "source": [
        "# Resposta à Questão 2:\n",
        "n = [10,9,8]\n",
        "med = sum(n)/len(n)\n",
        "print(med)\n",
        "print(n)"
      ],
      "execution_count": null,
      "outputs": [
        {
          "output_type": "stream",
          "text": [
            "9.0\n",
            "[10, 9, 8]\n"
          ],
          "name": "stdout"
        }
      ]
    },
    {
      "cell_type": "code",
      "metadata": {
        "colab": {
          "base_uri": "https://localhost:8080/"
        },
        "id": "NWSA9_m6nB5u",
        "outputId": "cc2d3f8b-4ea9-4520-d045-b1dda69d9693"
      },
      "source": [
        "# Resposta à Questão 3:\n",
        "idades = [80,90,100]\n",
        "print('max:', max(idades))\n",
        "print('min:', min(idades))"
      ],
      "execution_count": null,
      "outputs": [
        {
          "output_type": "stream",
          "text": [
            "max: 100\n",
            "min: 80\n"
          ],
          "name": "stdout"
        }
      ]
    },
    {
      "cell_type": "code",
      "metadata": {
        "colab": {
          "base_uri": "https://localhost:8080/"
        },
        "id": "kcX7nkFjnB5u",
        "outputId": "87f9783a-071a-4207-e3ed-6b561b042c5f"
      },
      "source": [
        "# Resposta à Questão 4:\n",
        "n = []\n",
        "for i in range(20):\n",
        "  n.append(i+1)\n",
        "pares = [par for par in n if par % 2 == 0]\n",
        "impares = [impar for impar in n if impar % 2 != 0]\n",
        "print(pares)\n",
        "print(impares)"
      ],
      "execution_count": null,
      "outputs": [
        {
          "output_type": "stream",
          "text": [
            "[2, 4, 6, 8, 10, 12, 14, 16, 18, 20]\n",
            "[1, 3, 5, 7, 9, 11, 13, 15, 17, 19]\n"
          ],
          "name": "stdout"
        }
      ]
    },
    {
      "cell_type": "code",
      "metadata": {
        "id": "_kr14EyXnB5u"
      },
      "source": [
        "# Resposta à Questão 5:\n",
        "meses = ['janeiro', 'fevereiro','março','abril','maio','junho']\n",
        "meses += ['julho', 'agosto', 'setembro', 'outubro', 'novembro', 'dezembro']\n",
        "\n",
        "temps = []\n",
        "\n",
        "for i in meses:\n",
        "  temps.append(int(input('Digite a temperatura para o mês de '+i+': ')))\n",
        "\n",
        "media_anual = sum(temps)/len(temps)\n",
        "print('Media anual: ',media_anual)\n",
        "aux = 0\n",
        "for i in range(len(temps)):\n",
        "  if temps[i]>media_anual:\n",
        "    print('O mês '+meses[i]+' está acima da média e possui temperatura igual a:',temps[i]) "
      ],
      "execution_count": null,
      "outputs": []
    },
    {
      "cell_type": "code",
      "metadata": {
        "id": "17INTBgEnB5v"
      },
      "source": [
        "# Resposta à Questão 6:\n",
        "loop = True\n",
        "lista = []\n",
        "\n",
        "while loop == True:\n",
        "  e = input()\n",
        "  if e == 'fim':\n",
        "    loop = False\n",
        "  else :\n",
        "    lista.append(int(e))\n",
        "\n",
        "lista_metade = []\n",
        "for i in lista:\n",
        "  lista_metade.append(i/2)\n",
        "\n",
        "print(lista_metade)\n",
        "  \n"
      ],
      "execution_count": null,
      "outputs": []
    },
    {
      "cell_type": "code",
      "metadata": {
        "id": "nZMXrCXKnB5v"
      },
      "source": [
        "# Resposta à Questão 7:\n",
        "import random\n",
        "\n",
        "n = int(input(' digite n :'))\n",
        "linha = []\n",
        "matriz = []\n",
        "\n",
        "for e in range(n):\n",
        "  for i in range(n):\n",
        "    linha.append(random.randint(1,10))\n",
        "  matriz.append(linha)\n",
        "  linha = []\n",
        "\n",
        "print(matriz)\n"
      ],
      "execution_count": null,
      "outputs": []
    },
    {
      "cell_type": "code",
      "metadata": {
        "id": "FqjK4d0OnB5v"
      },
      "source": [
        "# Resposta à Questão 8:\n",
        "perguntas = ['Telefonou para a vítima?','Esteve no local do crime?','Mora perto da vítima?','Devia dinheiro para a vítima?','Já trabalhou com a vítima?']\n",
        "pont = 0\n",
        "for p in perguntas :\n",
        "  r = input(p)\n",
        "  if r == 'sim':\n",
        "    pont += 1\n",
        "\n",
        "if pont == 1 or pont == 0:print('A pessoa é inocente')\n",
        "if pont == 2 :print('A pessoa é suspeita')\n",
        "elif pont == 3 or pont == 4:print('A pessoa é cúmplice')\n",
        "elif pont == 5:print('A pessoa é Assasina')\n",
        "\n"
      ],
      "execution_count": null,
      "outputs": []
    },
    {
      "cell_type": "code",
      "metadata": {
        "id": "AhfHOoMenB5v"
      },
      "source": [
        "# Resposta à Questão 9:\n",
        "respostas = ['Windows XP', 'Unix', 'Linux', 'Netware', 'MacOS', 'Outros']\n",
        "opções = '1-Windows XP 2-Unix 3-Linux 4-Netware 5-MacOS 6-Outros 0-Fim'\n",
        "valores = [0,0,0,0,0,0]\n",
        "loop = True\n",
        "\n",
        "while loop == True:\n",
        "  print(opções)\n",
        "  e = input()\n",
        "  if e == '0':\n",
        "    loop = False\n",
        "  else:valores[int(e)-1] +=1\n",
        "\n",
        "aux = 0\n",
        "for i in respostas:\n",
        "  print(i,valores[aux]*100/sum(valores),'%')\n",
        "  aux += 1\n"
      ],
      "execution_count": null,
      "outputs": []
    },
    {
      "cell_type": "markdown",
      "metadata": {
        "id": "gJxnDcvBnB5w"
      },
      "source": [
        "<h6>Criado por Prof. Cláudio Fleury - Mai/2021.</h6>\n",
        "\n",
        "> Bloco com recuo\n",
        "\n"
      ]
    }
  ]
}